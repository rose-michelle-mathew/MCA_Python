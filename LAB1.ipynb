{
 "cells": [
  {
   "cell_type": "markdown",
   "metadata": {},
   "source": [
    "Python - Lab 1\n",
    "\n",
    "2347145 - Rose Michelle Mathew\n",
    "\n",
    "30-07-2023"
   ]
  },
  {
   "cell_type": "markdown",
   "metadata": {},
   "source": [
    " ### Q2\n",
    " \n",
    " Functions\n",
    "Implement a function pay() that takes as input two arguments: an \n",
    " hourly wage and the number of hours an employee worked last week. \n",
    "Your function should compute and return the employee’s pay. \n",
    "Any hours worked beyond 40 is overtime and should be paid 1.5 \n",
    "times the regular hourly wage.\n",
    " pay(10,35)\n",
    " 350\n",
    "pay(10,45)\n",
    " 475.0\n"
   ]
  },
  {
   "cell_type": "code",
   "execution_count": 1,
   "metadata": {},
   "outputs": [
    {
     "name": "stdout",
     "output_type": "stream",
     "text": [
      "\n",
      "-----Program To find the Wages of an Employee-----\n",
      "\n",
      "Enter the wages per hour\n",
      "Enter the hours worked last week\n",
      "the number of hours is: 7.0 The wages per hour is 0.0\n",
      "The wages for last week are: 0.0\n"
     ]
    }
   ],
   "source": [
    "\n",
    "def pay(wage, hours):\n",
    "    if (hours <0):\n",
    "        print(\"Enter Valid number of Hours\")\n",
    "        amt = 0\n",
    "    if (hours <= 40 and hours >=0):\n",
    "        amt = wage*hours\n",
    "    elif (hours > 40):\n",
    "        amt = (40)*wage + (hours - 40)*(wage*1.5)\n",
    "    return amt\n",
    "\n",
    "print(\"\\n-----Program To find the Wages of an Employee-----\")\n",
    "print(\"\\nEnter the wages per hour\")\n",
    "wage= float(input(\"Wages: \"))\n",
    "print(\"Enter the hours worked last week\")\n",
    "hours= float(input(\"Hours: \"))\n",
    "print(\"the number of hours is:\" ,hours, \"The wages per hour is\", wage)\n",
    "print(\"The wages for last week are:\" , pay(wage,hours))"
   ]
  },
  {
   "cell_type": "markdown",
   "metadata": {},
   "source": [
    "### Q3\n",
    " Tuple\n",
    "Create a list of tuples that consists of two neumatic and one string\n",
    "For example houses for rent, the number of bedrooms and their prices, like so:\n",
    "[ ('main st.', 4, 4000), ('elm st.', 1, 1200), ('pine st.', 2, 1600)]\n",
    "Sort the list in the following ways:\n",
    "In ascending order by first numeric value\n",
    "In descending order by second numeric value\n",
    "In alphabetical order of string value\n"
   ]
  },
  {
   "cell_type": "code",
   "execution_count": 35,
   "metadata": {},
   "outputs": [
    {
     "name": "stdout",
     "output_type": "stream",
     "text": [
      "Would you like to enter list of tuples:\n",
      "\n",
      "\n",
      "----Sorted in ascending order by age------------\n",
      "\n",
      "\n",
      "[('Jancice Grace', 19, 21600), ('Sebastian Mat', 19, 4000), ('Jeff Mathews', 20, 12000), ('Rose Michelle', 21, 170000), ('Anna Kehlins', 23, 90000), ('Helen Antony', 26, 370000), ('Van D housen', 27, 56000)]\n",
      "\n",
      "\n",
      "----Sorted in descending order by salary---------\n",
      "\n",
      "\n",
      "[('Helen Antony', 26, 370000), ('Rose Michelle', 21, 170000), ('Anna Kehlins', 23, 90000), ('Van D housen', 27, 56000), ('Jancice Grace', 19, 21600), ('Jeff Mathews', 20, 12000), ('Sebastian Mat', 19, 4000)]\n",
      "\n",
      "\n",
      "----Sorted in alphabetical order ---------\n",
      "\n",
      "\n",
      "[('Anna Kehlins', 23, 90000), ('Helen Antony', 26, 370000), ('Jancice Grace', 19, 21600), ('Jeff Mathews', 20, 12000), ('Rose Michelle', 21, 170000), ('Sebastian Mat', 19, 4000), ('Van D housen', 27, 56000)]\n"
     ]
    }
   ],
   "source": [
    "\n",
    "new_list= [ \n",
    "    ('Rose Michelle', 21, 170000), \n",
    "    ('Jeff Mathews', 20, 12000), \n",
    "    ('Jancice Grace', 19, 21600),\n",
    "    ('Anna Kehlins', 23, 90000), \n",
    "    ('Sebastian Mat', 19, 4000), \n",
    "    ('Helen Antony', 26, 370000), \n",
    "    ('Van D housen', 27, 56000)\n",
    "    ]\n",
    "\n",
    "def add_list():\n",
    "    element = input(\"Enter Name, age and Salary\")\n",
    "    while(element!=''):\n",
    "        new_list.append(tuple(element.split()))\n",
    "        element = input(\"Enter Name, age and Salary\")\n",
    "    return new_list\n",
    "\n",
    "print(\"Would you like to enter list of tuples:\")\n",
    "ch = input(\"y/n\")\n",
    "if (ch=='y'):\n",
    "    new_list = []\n",
    "    new_list = add_list()\n",
    "    print (new_list)\n",
    "\n",
    "print(\"\\n\\n----Sorted in ascending order by age------------\\n\\n\")\n",
    "new_list.sort(key = lambda x: x[1], reverse=False)\n",
    "print(new_list) \n",
    "\n",
    "print(\"\\n\\n----Sorted in descending order by salary---------\\n\\n\")\n",
    "new_list.sort(key = lambda x: x[2], reverse=True)\n",
    "print(new_list) \n",
    "\n",
    "print(\"\\n\\n----Sorted in alphabetical order ---------\\n\\n\")\n",
    "new_list.sort(key = lambda x: x[0], reverse=False)\n",
    "print(new_list) \n",
    "\n"
   ]
  },
  {
   "cell_type": "markdown",
   "metadata": {},
   "source": [
    "### Q1\n",
    "\n",
    "Write a paragraph on your identified domain. Write a python program\n",
    "to find the frequency of the given word(your domain name) in the paragraph.\n",
    "to compute the number of characters, words and lines in the paragraph\n",
    "to arrange the letters of the given word(your domain name) in alphabetical order\n",
    "\n",
    "Write a python program to encrypt a given string(your domain name) using the following method:\n",
    "Encrypt Method: Add a number ‘n’(given by the user ) to each alphabet in the\n",
    "given string to create the corresponding letter.\n",
    "Example: \n",
    "Input: bat\n",
    "Encrypt Method:value of n = 3\n",
    "Output:edw.\n"
   ]
  },
  {
   "cell_type": "code",
   "execution_count": 99,
   "metadata": {},
   "outputs": [
    {
     "name": "stdout",
     "output_type": "stream",
     "text": [
      "['the', 'university', 'student-teacher', 'management', 'system', 'is', 'a', 'comprehensive', 'software', 'platform', 'designed', 'to', 'streamline', 'and', 'enhance', 'administrative', 'processes', 'within', 'an', 'educational', 'institution.', 'the', 'system', 'acts', 'as', 'a', 'centralized', 'hub,', 'facilitating', 'efficient', 'management', 'of', 'student', 'and', 'teacher-related', 'information.', 'with', 'various', 'modules', 'for', 'student', 'enrollment,', 'course', 'registration,', 'academic', 'progress', 'tracking,', 'and', 'grading,', 'it', 'simplifies', 'the', 'registration', 'process', 'for', 'students', 'and', 'optimizes', 'course', 'allocation', 'for', 'teachers.', 'the', 'system', 'also', 'enables', 'teachers', 'to', 'input', 'grades', 'and', 'attendance,', 'providing', 'real-time', 'updates', 'to', 'students', 'and', 'administrators', 'alike.', 'the', 'university', 'student-teacher', 'management', 'system', 'aims', 'to', 'improve', 'efficiency', 'and', 'collaboration', 'among', 'students', 'and', 'teachers', 'throughout', 'the', 'university.']\n",
      "the word me appears 0 times in the paragraph\n",
      "word count: 98\n",
      "line count: 3\n",
      "charachter count: 785\n",
      "new paragraph in alphabetical order\n",
      " a a academic acts administrative administrators aims alike. allocation also among an and and and and and and and and as attendance, centralized collaboration comprehensive course course designed educational efficiency efficient enables enhance enrollment, facilitating for for for grades grading, hub, improve information. input institution. is it management management management modules of optimizes platform process processes progress providing real-time registration registration, simplifies software streamline student student student-teacher student-teacher students students students system system system system teacher-related teachers teachers teachers. the the the the the the throughout to to to to tracking, university university university. updates various with within\n"
     ]
    }
   ],
   "source": [
    "\n",
    "def count_fn():\n",
    "    para = \"The University Student-Teacher Management System is\\n a comprehensive software platform designed to streamline and enhance \\n administrative processes within an educational institution.\\n The system acts as a centralized hub, facilitating efficient management of student and teacher-related information. With various modules for student enrollment, course registration, academic progress tracking, and grading, it simplifies the registration process for students and optimizes course allocation for teachers. The system also enables teachers to input grades and attendance, providing real-time updates to students and administrators alike. The University Student-Teacher Management System aims to improve efficiency and collaboration among students and teachers throughout the university.\"\n",
    "    new_list = []\n",
    "    new_list=para.lower().split() #Convert to lower case and split by space\n",
    "    print(new_list)\n",
    "    word = input(\"Enter the word whose frequency is to be found\")\n",
    "    x = new_list.count(word)\n",
    "    print(\"the word\", word ,\"appears\", x ,\"times in the paragraph\") \n",
    "    word_count = len(new_list) #new line tags are not counted\n",
    "    print(\"word count:\", word_count)\n",
    "    line_count= para.count('\\n') #since the list does not include the new line charachters, we count it using para\n",
    "    print(\"line count:\", line_count)\n",
    "    char_count= len(para)\n",
    "    print(\"charachter count:\",char_count)\n",
    "    new_list.sort()  #sort returns none type, sorts the original list\n",
    "    new_para =' '.join(new_list)\n",
    "    print(\"new paragraph in alphabetical order\\n\", new_para)\n",
    "\n",
    "\n",
    "count_fn()\n",
    "    "
   ]
  },
  {
   "cell_type": "code",
   "execution_count": 104,
   "metadata": {},
   "outputs": [
    {
     "name": "stdout",
     "output_type": "stream",
     "text": [
      "-\n"
     ]
    }
   ],
   "source": [
    "def encrypt():\n",
    "    res =''\n",
    "    n = int(input(\"Enter encryption number\"))\n",
    "    string = input(\"enter string\")\n",
    "    new_string = [ord(ch) for ch in string]\n",
    "    for val in new_string:\n",
    "        res = res + chr(val+n)\n",
    "    print(res)\n",
    "\n",
    "encrypt()"
   ]
  }
 ],
 "metadata": {
  "kernelspec": {
   "display_name": "Python 3",
   "language": "python",
   "name": "python3"
  },
  "language_info": {
   "codemirror_mode": {
    "name": "ipython",
    "version": 3
   },
   "file_extension": ".py",
   "mimetype": "text/x-python",
   "name": "python",
   "nbconvert_exporter": "python",
   "pygments_lexer": "ipython3",
   "version": "3.10.11"
  },
  "orig_nbformat": 4
 },
 "nbformat": 4,
 "nbformat_minor": 2
}
