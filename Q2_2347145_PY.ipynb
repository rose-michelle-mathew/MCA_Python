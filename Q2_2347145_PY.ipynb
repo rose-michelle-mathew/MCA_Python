{
 "cells": [
  {
   "cell_type": "markdown",
   "metadata": {},
   "source": [
    "### 2347154\n",
    "### Rose Michelle Mathew\n",
    "### Pyhton lab 2"
   ]
  },
  {
   "cell_type": "markdown",
   "metadata": {},
   "source": [
    "1. LIST\n",
    "Write a PYTHON script with List comprehension for the following\n",
    "-- Is the given list divisible by 3 or NOT?\n",
    "--  Square of even numbers in a list\n",
    "--  Sum of digits of all EVEN numbers in a list\n",
    "--  Remove duplicate numbers in a list"
   ]
  },
  {
   "cell_type": "code",
   "execution_count": 13,
   "metadata": {},
   "outputs": [
    {
     "name": "stdout",
     "output_type": "stream",
     "text": [
      "Original list [4, 4, 6, 9]\n",
      "Numbers divisible by 3:\n",
      "[6, 9]\n",
      "Square of Even numbers [16, 16, 36]\n",
      "Sum of all even numbers 14\n",
      "After removing duplicates [9, 4, 6]\n"
     ]
    }
   ],
   "source": [
    "import math\n",
    "my_list = []\n",
    "sum_list =0\n",
    "for i in range (1,5):\n",
    "    e = int(input(\"Enter Age of students\"))\n",
    "    my_list.append(e)\n",
    "print(\"Original list\", my_list)\n",
    "print(\"Numbers divisible by 3:\")\n",
    "new_list = [x for x in my_list if x%3 ==0]\n",
    "print(new_list)\n",
    "even = [x**2 for x in my_list if x%2==0]\n",
    "print(\"Square of Even numbers\",even)\n",
    "even_list = [x for x in my_list if x%2==0]\n",
    "print(\"Sum of all even numbers\",sum(even_list))\n",
    "list2 = list(set(my_list))\n",
    "print(\"After removing duplicates\", list2)\n",
    "# print(list_sum)\n",
    "# print(\"Sum of all even numbers is \", list_sum)"
   ]
  },
  {
   "cell_type": "markdown",
   "metadata": {},
   "source": [
    "2. Dictionary\n",
    "Create a dictionary to store the details of your company employees (name as key and\n",
    "birthdate as value).\n",
    "{ ‘Virat Kohli’: ‘5 November 1988’, ‘Umesh Yadav’: ‘25 October 1987’, ‘Manish Pandey’:\n",
    "‘10 September 1989’, ‘Rohit Sharma’: ‘30 April 1987’, ‘Ravindra Jadeja’: ‘6 December\n",
    "1988’, ‘Hardik Pandya’: ‘11 October 1993’ }\n",
    "Write a function birthDate() that takes the full name of your employees(as a string) and\n",
    "displays the given employee’s birthdate.\n",
    ">>>birthDate(‘Rohit Sharma’)\n",
    "‘30 April 1987’"
   ]
  },
  {
   "cell_type": "code",
   "execution_count": 1,
   "metadata": {},
   "outputs": [
    {
     "name": "stdout",
     "output_type": "stream",
     "text": [
      "Would you like to input values?\n",
      "{'Rose': '24 July 2002', 'Mathew': '13 July 1974', 'Josini': '4 July 1974', 'Joe': '30 AUgust 2000', 'Sebastian': '18 April 2007'}\n",
      "24 July 2002\n"
     ]
    }
   ],
   "source": [
    "my_dict = {\"Rose\":\"24 July 2002\", \"Mathew\":\"13 July 1974\",\"Josini\":\"4 July 1974\",\"Joe\":\"30 AUgust 2000\",\"Sebastian\":\"18 April 2007\"}\n",
    "\n",
    "def my_value():\n",
    "    my_dict_2 ={}\n",
    "    for i in range (0,3):\n",
    "        name =input(\"Enter Employee Name\")\n",
    "        vals = input(\"Enter Birthday\")\n",
    "        my_dict_2[name] =vals\n",
    "    print(my_dict_2)\n",
    "    key1 = input(\"Enter Name whose birthday you would like to find\")\n",
    "    birthday= my_dict_2[key1]\n",
    "    print(birthday)\n",
    "        \n",
    "def birthDate(key1):\n",
    "    birthday= my_dict[key1]\n",
    "    print(birthday)\n",
    "\n",
    "\n",
    "print(\"Would you like to input values?\")\n",
    "ch = input(\"Press y/n\")\n",
    "if(ch == 'y' or ch == 'Y'):\n",
    "    my_value()\n",
    "else:\n",
    "    print(my_dict)\n",
    "    key1 = input(\"Enter Name\")\n",
    "    birthDate(key1)\n",
    "\n",
    "\n",
    "\n"
   ]
  }
 ],
 "metadata": {
  "kernelspec": {
   "display_name": "Python 3",
   "language": "python",
   "name": "python3"
  },
  "language_info": {
   "codemirror_mode": {
    "name": "ipython",
    "version": 3
   },
   "file_extension": ".py",
   "mimetype": "text/x-python",
   "name": "python",
   "nbconvert_exporter": "python",
   "pygments_lexer": "ipython3",
   "version": "3.10.11"
  },
  "orig_nbformat": 4
 },
 "nbformat": 4,
 "nbformat_minor": 2
}
